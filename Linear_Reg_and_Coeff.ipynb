{
 "cells": [
  {
   "cell_type": "code",
   "execution_count": 1,
   "id": "07ef4d6a-e9c5-41c1-ba32-d5fd730ce317",
   "metadata": {},
   "outputs": [],
   "source": [
    "import numpy as np"
   ]
  },
  {
   "cell_type": "code",
   "execution_count": 2,
   "id": "27b693bf-7ca0-4ddf-9b30-2735c85f03dc",
   "metadata": {},
   "outputs": [],
   "source": [
    "x = np.array([0,1,2,3,4,5,6,7,8,9,11,13])"
   ]
  },
  {
   "cell_type": "code",
   "execution_count": 3,
   "id": "7b779eb9-c926-47cb-9c86-bdc6b1f879ea",
   "metadata": {},
   "outputs": [],
   "source": [
    "y = np.array([1,3,2,5,7,8,8,9,10,12,16,18])"
   ]
  },
  {
   "cell_type": "code",
   "execution_count": 4,
   "id": "a6390c7b-ddd4-42f7-9e99-ae55c6c65ad1",
   "metadata": {},
   "outputs": [],
   "source": [
    "n = len(x)"
   ]
  },
  {
   "cell_type": "code",
   "execution_count": 5,
   "id": "b67e6fd0-aa01-488b-92fd-ea4b0639529b",
   "metadata": {},
   "outputs": [],
   "source": [
    "mean_x = np.mean(x)\n",
    "mean_y = np.mean(y)"
   ]
  },
  {
   "cell_type": "code",
   "execution_count": 6,
   "id": "949d18bd-c33c-4fbe-ad24-632660c10a48",
   "metadata": {},
   "outputs": [],
   "source": [
    "numerator = np.sum((x - mean_x)*(y - mean_y))"
   ]
  },
  {
   "cell_type": "code",
   "execution_count": 7,
   "id": "94dcf12f-8fb9-4f15-bd0a-c91da8643163",
   "metadata": {},
   "outputs": [],
   "source": [
    "denominator = np.sum((x - mean_x)**2)"
   ]
  },
  {
   "cell_type": "code",
   "execution_count": 8,
   "id": "4dd4c9f7-53ef-4c8c-b720-585f37edd783",
   "metadata": {},
   "outputs": [],
   "source": [
    "b1 = numerator / denominator"
   ]
  },
  {
   "cell_type": "code",
   "execution_count": 9,
   "id": "eb716ed8-e798-44bb-bb9b-772df5ca86c1",
   "metadata": {},
   "outputs": [],
   "source": [
    "b0 = mean_y - b1 * mean_x"
   ]
  },
  {
   "cell_type": "code",
   "execution_count": 14,
   "id": "72ce3788-f5ff-4df0-835c-8865d737e607",
   "metadata": {},
   "outputs": [
    {
     "name": "stdout",
     "output_type": "stream",
     "text": [
      "Estimted coefficient : \n",
      "b0 (integer) = 0.8387\n",
      "b1 (slope) = 1.2889\n"
     ]
    }
   ],
   "source": [
    "print(f\"Estimted coefficient : \")\n",
    "print(f\"b0 (integer) = {b0:.4f}\")\n",
    "print(f\"b1 (slope) = {b1:.4f}\")"
   ]
  },
  {
   "cell_type": "code",
   "execution_count": null,
   "id": "8d1f20d5-681b-45d4-a3f7-19e4a2cdc025",
   "metadata": {},
   "outputs": [],
   "source": []
  },
  {
   "cell_type": "code",
   "execution_count": null,
   "id": "7ef318e0-3dd9-43bd-a1e6-69414c80a278",
   "metadata": {},
   "outputs": [],
   "source": []
  },
  {
   "cell_type": "raw",
   "id": "223c5111-00ee-41a3-8702-34d6fcbede21",
   "metadata": {},
   "source": []
  },
  {
   "cell_type": "code",
   "execution_count": null,
   "id": "37c871ac-b1c6-4380-a6ab-6b46550f5f9d",
   "metadata": {},
   "outputs": [],
   "source": []
  }
 ],
 "metadata": {
  "kernelspec": {
   "display_name": "Python 3 (ipykernel)",
   "language": "python",
   "name": "python3"
  },
  "language_info": {
   "codemirror_mode": {
    "name": "ipython",
    "version": 3
   },
   "file_extension": ".py",
   "mimetype": "text/x-python",
   "name": "python",
   "nbconvert_exporter": "python",
   "pygments_lexer": "ipython3",
   "version": "3.10.12"
  }
 },
 "nbformat": 4,
 "nbformat_minor": 5
}
